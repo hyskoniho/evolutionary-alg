{
 "cells": [
  {
   "cell_type": "markdown",
   "metadata": {},
   "source": [
    "# Algoritmos Genéticos\n",
    "Construção de um algoritmo genético (heurística probabilística) para retornar resultados *aproximados* da palavra \"artificial\"."
   ]
  },
  {
   "cell_type": "markdown",
   "metadata": {},
   "source": [
    "![title](https://miro.medium.com/v2/resize:fit:640/1*IvvU5iEeuBbz5cLNmdw1BQ.png)"
   ]
  },
  {
   "cell_type": "markdown",
   "metadata": {},
   "source": [
    "### Bibliotecas necessárias"
   ]
  },
  {
   "cell_type": "code",
   "execution_count": 30,
   "metadata": {},
   "outputs": [],
   "source": [
    "import random\n",
    "import string"
   ]
  },
  {
   "cell_type": "markdown",
   "metadata": {},
   "source": [
    "### Geração de um Gene"
   ]
  },
  {
   "cell_type": "code",
   "execution_count": 31,
   "metadata": {},
   "outputs": [
    {
     "data": {
      "text/plain": [
       "'o'"
      ]
     },
     "execution_count": 31,
     "metadata": {},
     "output_type": "execute_result"
    }
   ],
   "source": [
    "# Função que recebe uma lista para não considerar na geração de um gene\n",
    "def gene(not_consider: list = []) -> str:\n",
    "    alfabeto: list = list(string.ascii_lowercase)\n",
    "    \n",
    "    for i in not_consider:\n",
    "        alfabeto.remove(i)\n",
    "        \n",
    "    return random.choice(alfabeto) if len(alfabeto) > 0 else None\n",
    "\n",
    "gene()"
   ]
  },
  {
   "cell_type": "markdown",
   "metadata": {},
   "source": [
    "### Geração da População"
   ]
  },
  {
   "cell_type": "code",
   "execution_count": 32,
   "metadata": {},
   "outputs": [],
   "source": [
    "# Funcão que gera uma população de palavras aleatórias\t\n",
    "def gerar_populacao(tamanho_ind: int, quantidade: int) -> list[str]:\n",
    "    pop: list[str] = []\n",
    "    \n",
    "    for x in range(quantidade):\n",
    "        palavra: str = ''\n",
    "\n",
    "        for y in range(tamanho_ind):\n",
    "            palavra+=gene()\n",
    "\n",
    "        pop.append(palavra)\n",
    "    \n",
    "    return pop\n",
    "\n",
    "populacao: list[str] = gerar_populacao(10, 100)\n",
    "populacao"
   ]
  },
  {
   "cell_type": "markdown",
   "metadata": {},
   "source": [
    "### Função de avaliação do indivíduo"
   ]
  },
  {
   "cell_type": "code",
   "execution_count": 65,
   "metadata": {},
   "outputs": [
    {
     "data": {
      "text/plain": [
       "0.25"
      ]
     },
     "execution_count": 65,
     "metadata": {},
     "output_type": "execute_result"
    }
   ],
   "source": [
    "def avaliar(individuo: str, tipo: str = 'max') -> float | int: \n",
    "    # Max é se o problema é de MAXIMIZACAO, ou seja, quanto MAIOR a nota, melhor\n",
    "    # Min é se o problema é de MINIMIZACAO, ou seja, quanto MENOR a nota, melhor\n",
    "    \"\"\"ESTA FUNCAO GERA UM VALOR BASEADO NA DIFERENCA DOS VALORES ASCII DAS PALAVRA\"\"\"\n",
    "\n",
    "    palavra_alvo: str = 'artificial'\n",
    "    nota: int | float = 0\n",
    "\n",
    "    for caractere_teste, caractere_alvo in zip(individuo, palavra_alvo):\n",
    "        ascii_teste: int = ord(caractere_teste) # Valor inteiro ascii do caractere teste\n",
    "        ascii_alvo: int = ord(caractere_alvo) # Valor inteiro ascii do caractere alvo\n",
    "\n",
    "        distancia_quadratica: int = (ascii_teste - ascii_alvo)**2 # faz o quadrado para aumentar a distancia entre as notas e punir eficientemente notas piores, além de retornar um valor positivo sempre vlw tmj\n",
    "\n",
    "        nota+=(distancia_quadratica) # soma a nota\n",
    "    \n",
    "    return 1/nota if (tipo == 'max') and (nota != 0) else nota\n",
    "\n",
    "avaliar('artifician')"
   ]
  },
  {
   "cell_type": "markdown",
   "metadata": {},
   "source": [
    "##### Cria um dicionário para armazenar as notas dos indivíduos e tornar mais fácil o seu acesso"
   ]
  },
  {
   "cell_type": "code",
   "execution_count": 34,
   "metadata": {},
   "outputs": [
    {
     "data": {
      "text/plain": [
       "{'kknuilyssy': 0.0007022471910112359,\n",
       " 'fomnckhllw': 0.0025188916876574307,\n",
       " 'fyxfnvvnxi': 0.0007961783439490446,\n",
       " 'jwnusueotn': 0.00099601593625498,\n",
       " 'vhnlffouke': 0.0009689922480620155,\n",
       " 'xrzelatkfx': 0.0008748906386701663,\n",
       " 'squrjrwodf': 0.0010152284263959391,\n",
       " 'grqwmosbfi': 0.0015037593984962407,\n",
       " 'xratkcqkrm': 0.0006402048655569782,\n",
       " 'wtvqmzffwx': 0.0006493506493506494,\n",
       " 'qecvcnyjjb': 0.0006317119393556538,\n",
       " 'ascjunzpaq': 0.0008741258741258741,\n",
       " 'ttplszxidq': 0.0007558578987150416,\n",
       " 'upiuhhdakf': 0.001142857142857143,\n",
       " 'nkdxrohhxt': 0.0006675567423230974,\n",
       " 'owzkzclsfc': 0.0010162601626016261,\n",
       " 'guhxfhppcb': 0.0013568521031207597,\n",
       " 'ruqdkezqjf': 0.0009233610341643582,\n",
       " 'jzwqmgzmpq': 0.0009380863039399625,\n",
       " 'yfcphcqgsd': 0.0005931198102016608,\n",
       " 'oejddzesoh': 0.0009099181073703367,\n",
       " 'relgmqxbqj': 0.0007199424046076314,\n",
       " 'jxusuuxtqh': 0.0007037297677691766,\n",
       " 'buqkdeuziv': 0.0012195121951219512,\n",
       " 'lvtfesxbxh': 0.00078003120124805,\n",
       " 'gupjutwczb': 0.0006373486297004461,\n",
       " 'keyydaucaq': 0.0009970089730807576,\n",
       " 'vfxegmomaw': 0.001092896174863388,\n",
       " 'tyrdmdbdmx': 0.0012091898428053204,\n",
       " 'oqwaahrvmt': 0.0011135857461024498,\n",
       " 'hzidmhenpu': 0.0015527950310559005,\n",
       " 'eajgrmjnaq': 0.0014970059880239522,\n",
       " 'xvlthwrfld': 0.0007412898443291327,\n",
       " 'xcurrlatye': 0.0005750431282346176,\n",
       " 'dhcemlgdgs': 0.0016722408026755853,\n",
       " 'abtzmdytpn': 0.0006882312456985547,\n",
       " 'pmqbfcvbyj': 0.0007496251874062968,\n",
       " 'vqzevuhzwr': 0.0005787037037037037,\n",
       " 'hngxmegwbs': 0.001272264631043257,\n",
       " 'vqljuqigof': 0.0009363295880149813,\n",
       " 'pamebezuwu': 0.0005408328826392645,\n",
       " 'zomzbmscbq': 0.0007564296520423601,\n",
       " 'phekkdkhao': 0.0014749262536873156,\n",
       " 'zieaijgerf': 0.0007342143906020558,\n",
       " 'yzcontxoct': 0.0005899705014749262,\n",
       " 'ffcjmbhsbx': 0.0012091898428053204,\n",
       " 'ywemrwnzqf': 0.0005307855626326964,\n",
       " 'ocwokeulac': 0.0010857763300760044,\n",
       " 'cqualsvaoc': 0.0011013215859030838,\n",
       " 'djwrioqmit': 0.0018248175182481751,\n",
       " 'pdpmvjlpaw': 0.001040582726326743,\n",
       " 'jaxmlpzkqg': 0.0007686395080707148,\n",
       " 'hqmbpgcbyr': 0.001095290251916758,\n",
       " 'adaphnsdan': 0.0010869565217391304,\n",
       " 'ihlaglqsvx': 0.0008453085376162299,\n",
       " 'uwpqhxniul': 0.0007968127490039841,\n",
       " 'codhrckxhu': 0.0011507479861910242,\n",
       " 'lqvrmkkoln': 0.002061855670103093,\n",
       " 'xqzehbekbe': 0.001443001443001443,\n",
       " 'noziuovmgh': 0.0011061946902654867,\n",
       " 'cmgpohvrmz': 0.0009000900090009,\n",
       " 'qmoxnugjyt': 0.0007163323782234957,\n",
       " 'bnlgriyvnz': 0.0008019246190858059,\n",
       " 'ocsnwhzege': 0.000731528895391368,\n",
       " 'okhwqtjbej': 0.0010582010582010583,\n",
       " 'zbxbvipetv': 0.0005411255411255411,\n",
       " 'wzvyxmtsed': 0.0006184291898577613,\n",
       " 'itmpadeasn': 0.0016339869281045752,\n",
       " 'wqqjwvpebx': 0.000779423226812159,\n",
       " 'qteyvdnqgh': 0.0007942811755361397,\n",
       " 'omlmjimizm': 0.0009587727708533077,\n",
       " 'dqqdmlwwbt': 0.001310615989515072,\n",
       " 'njbtgrttll': 0.000774593338497289,\n",
       " 'jiqoldhdjk': 0.0025,\n",
       " 'mhgdnjflce': 0.0017421602787456446,\n",
       " 'tykhwxbhmy': 0.000757002271006813,\n",
       " 'ajyphrsemc': 0.001388888888888889,\n",
       " 'azvllatlwn': 0.0010384215991692627,\n",
       " 'clpvdtwssj': 0.0008488964346349745,\n",
       " 'zpbqjygqtf': 0.0005662514156285391,\n",
       " 'alqmrzjmnu': 0.0012360939431396785,\n",
       " 'tsxnudfbcm': 0.0013966480446927375,\n",
       " 'xcixnkmivb': 0.000552791597567717,\n",
       " 'azomdebqzs': 0.0011574074074074073,\n",
       " 'kyewsfiygg': 0.0009082652134423251,\n",
       " 'omtfhtdptf': 0.0012468827930174563,\n",
       " 'mqeorjbkiu': 0.0014265335235378032,\n",
       " 'dpvyiudtxj': 0.0009250693802035153,\n",
       " 'ivwkurzmxf': 0.0006626905235255136,\n",
       " 'kefjthxbrk': 0.000693000693000693,\n",
       " 'aqabcdagiy': 0.0014577259475218659,\n",
       " 'poddoxolbx': 0.0008936550491510277,\n",
       " 'jqucrxvrde': 0.0010121457489878543,\n",
       " 'vdxfeeifol': 0.0010869565217391304,\n",
       " 'pcysojwbxr': 0.0005984440454817474,\n",
       " 'vlbxtefrvh': 0.0005602240896358543,\n",
       " 'mzponnsste': 0.0008968609865470852,\n",
       " 'pmxjswnkyd': 0.0007158196134574087,\n",
       " 'bnwenjwono': 0.0013869625520110957,\n",
       " 'mufjxjkazf': 0.0006830601092896175}"
      ]
     },
     "execution_count": 34,
     "metadata": {},
     "output_type": "execute_result"
    }
   ],
   "source": [
    "def notas(populacao: list[str]) -> dict[str, float]:\n",
    "    dicionario_notas: dict = {}\n",
    "    for individuo in populacao:\n",
    "        dicionario_notas[individuo] = avaliar(individuo)\n",
    "    return dicionario_notas\n",
    "\n",
    "dicionario_notas: dict = notas(populacao)\n",
    "dicionario_notas"
   ]
  },
  {
   "cell_type": "code",
   "execution_count": 35,
   "metadata": {},
   "outputs": [
    {
     "data": {
      "text/plain": [
       "{'fomnckhllw': 0.0025188916876574307,\n",
       " 'jiqoldhdjk': 0.0025,\n",
       " 'lqvrmkkoln': 0.002061855670103093,\n",
       " 'djwrioqmit': 0.0018248175182481751,\n",
       " 'mhgdnjflce': 0.0017421602787456446,\n",
       " 'dhcemlgdgs': 0.0016722408026755853,\n",
       " 'itmpadeasn': 0.0016339869281045752,\n",
       " 'hzidmhenpu': 0.0015527950310559005,\n",
       " 'grqwmosbfi': 0.0015037593984962407,\n",
       " 'eajgrmjnaq': 0.0014970059880239522,\n",
       " 'phekkdkhao': 0.0014749262536873156,\n",
       " 'aqabcdagiy': 0.0014577259475218659,\n",
       " 'xqzehbekbe': 0.001443001443001443,\n",
       " 'mqeorjbkiu': 0.0014265335235378032,\n",
       " 'tsxnudfbcm': 0.0013966480446927375,\n",
       " 'ajyphrsemc': 0.001388888888888889,\n",
       " 'bnwenjwono': 0.0013869625520110957,\n",
       " 'guhxfhppcb': 0.0013568521031207597,\n",
       " 'dqqdmlwwbt': 0.001310615989515072,\n",
       " 'hngxmegwbs': 0.001272264631043257,\n",
       " 'omtfhtdptf': 0.0012468827930174563,\n",
       " 'alqmrzjmnu': 0.0012360939431396785,\n",
       " 'buqkdeuziv': 0.0012195121951219512,\n",
       " 'tyrdmdbdmx': 0.0012091898428053204,\n",
       " 'ffcjmbhsbx': 0.0012091898428053204,\n",
       " 'azomdebqzs': 0.0011574074074074073,\n",
       " 'codhrckxhu': 0.0011507479861910242,\n",
       " 'upiuhhdakf': 0.001142857142857143,\n",
       " 'oqwaahrvmt': 0.0011135857461024498,\n",
       " 'noziuovmgh': 0.0011061946902654867,\n",
       " 'cqualsvaoc': 0.0011013215859030838,\n",
       " 'hqmbpgcbyr': 0.001095290251916758,\n",
       " 'vfxegmomaw': 0.001092896174863388,\n",
       " 'adaphnsdan': 0.0010869565217391304,\n",
       " 'vdxfeeifol': 0.0010869565217391304,\n",
       " 'ocwokeulac': 0.0010857763300760044,\n",
       " 'okhwqtjbej': 0.0010582010582010583,\n",
       " 'pdpmvjlpaw': 0.001040582726326743,\n",
       " 'azvllatlwn': 0.0010384215991692627,\n",
       " 'owzkzclsfc': 0.0010162601626016261,\n",
       " 'squrjrwodf': 0.0010152284263959391,\n",
       " 'jqucrxvrde': 0.0010121457489878543,\n",
       " 'keyydaucaq': 0.0009970089730807576,\n",
       " 'jwnusueotn': 0.00099601593625498,\n",
       " 'vhnlffouke': 0.0009689922480620155,\n",
       " 'omlmjimizm': 0.0009587727708533077,\n",
       " 'jzwqmgzmpq': 0.0009380863039399625,\n",
       " 'vqljuqigof': 0.0009363295880149813,\n",
       " 'dpvyiudtxj': 0.0009250693802035153,\n",
       " 'ruqdkezqjf': 0.0009233610341643582,\n",
       " 'oejddzesoh': 0.0009099181073703367,\n",
       " 'kyewsfiygg': 0.0009082652134423251,\n",
       " 'cmgpohvrmz': 0.0009000900090009,\n",
       " 'mzponnsste': 0.0008968609865470852,\n",
       " 'poddoxolbx': 0.0008936550491510277,\n",
       " 'xrzelatkfx': 0.0008748906386701663,\n",
       " 'ascjunzpaq': 0.0008741258741258741,\n",
       " 'clpvdtwssj': 0.0008488964346349745,\n",
       " 'ihlaglqsvx': 0.0008453085376162299,\n",
       " 'bnlgriyvnz': 0.0008019246190858059,\n",
       " 'uwpqhxniul': 0.0007968127490039841,\n",
       " 'fyxfnvvnxi': 0.0007961783439490446,\n",
       " 'qteyvdnqgh': 0.0007942811755361397,\n",
       " 'lvtfesxbxh': 0.00078003120124805,\n",
       " 'wqqjwvpebx': 0.000779423226812159,\n",
       " 'njbtgrttll': 0.000774593338497289,\n",
       " 'jaxmlpzkqg': 0.0007686395080707148,\n",
       " 'tykhwxbhmy': 0.000757002271006813,\n",
       " 'zomzbmscbq': 0.0007564296520423601,\n",
       " 'ttplszxidq': 0.0007558578987150416,\n",
       " 'pmqbfcvbyj': 0.0007496251874062968,\n",
       " 'xvlthwrfld': 0.0007412898443291327,\n",
       " 'zieaijgerf': 0.0007342143906020558,\n",
       " 'ocsnwhzege': 0.000731528895391368,\n",
       " 'relgmqxbqj': 0.0007199424046076314,\n",
       " 'qmoxnugjyt': 0.0007163323782234957,\n",
       " 'pmxjswnkyd': 0.0007158196134574087,\n",
       " 'jxusuuxtqh': 0.0007037297677691766,\n",
       " 'kknuilyssy': 0.0007022471910112359,\n",
       " 'kefjthxbrk': 0.000693000693000693,\n",
       " 'abtzmdytpn': 0.0006882312456985547,\n",
       " 'mufjxjkazf': 0.0006830601092896175,\n",
       " 'nkdxrohhxt': 0.0006675567423230974,\n",
       " 'ivwkurzmxf': 0.0006626905235255136,\n",
       " 'wtvqmzffwx': 0.0006493506493506494,\n",
       " 'xratkcqkrm': 0.0006402048655569782,\n",
       " 'gupjutwczb': 0.0006373486297004461,\n",
       " 'qecvcnyjjb': 0.0006317119393556538,\n",
       " 'wzvyxmtsed': 0.0006184291898577613,\n",
       " 'pcysojwbxr': 0.0005984440454817474,\n",
       " 'yfcphcqgsd': 0.0005931198102016608,\n",
       " 'yzcontxoct': 0.0005899705014749262,\n",
       " 'vqzevuhzwr': 0.0005787037037037037,\n",
       " 'xcurrlatye': 0.0005750431282346176,\n",
       " 'zpbqjygqtf': 0.0005662514156285391,\n",
       " 'vlbxtefrvh': 0.0005602240896358543,\n",
       " 'xcixnkmivb': 0.000552791597567717,\n",
       " 'zbxbvipetv': 0.0005411255411255411,\n",
       " 'pamebezuwu': 0.0005408328826392645,\n",
       " 'ywemrwnzqf': 0.0005307855626326964}"
      ]
     },
     "execution_count": 35,
     "metadata": {},
     "output_type": "execute_result"
    }
   ],
   "source": [
    "def ordenar(dicionario: dict, criterio: str = 'desc') -> dict[str, float]:\n",
    "    # Se o problema for de minimizacao (ou seja, quanto menor a nota, melhor), o criterio é ascendente\n",
    "\n",
    "    if criterio == 'asc':\n",
    "        dicionario_notas = {k: v for k, v in sorted(dicionario.items(), key=lambda item: item[1])}\n",
    "        \n",
    "    elif criterio == 'desc':\n",
    "        dicionario_notas = {k: v for k, v in sorted(dicionario.items(), key=lambda item: item[1], reverse=True)}\n",
    "        \n",
    "    return dicionario_notas\n",
    "\n",
    "dicionario_notas = ordenar(dicionario_notas)\n",
    "dicionario_notas"
   ]
  },
  {
   "cell_type": "code",
   "execution_count": 36,
   "metadata": {},
   "outputs": [
    {
     "data": {
      "text/plain": [
       "['fomnckhllw', 'jiqoldhdjk']"
      ]
     },
     "execution_count": 36,
     "metadata": {},
     "output_type": "execute_result"
    }
   ],
   "source": [
    "def topn(dicionario: dict, n: int = 2, tipo: str = 'max') -> dict:\n",
    "    if tipo == 'min':\n",
    "        dicionario: dict = ordenar(dicionario, 'asc')\n",
    "    \n",
    "    elif tipo == 'max':\n",
    "        dicionario: dict = ordenar(dicionario, 'desc')\n",
    "        \n",
    "    return list(dicionario.keys())[:n]\n",
    "        \n",
    "        \n",
    "topn(dicionario_notas, tipo='max')"
   ]
  },
  {
   "cell_type": "markdown",
   "metadata": {},
   "source": [
    "### Seleções para selecionar 2 indivíduos diferentes"
   ]
  },
  {
   "cell_type": "code",
   "execution_count": 37,
   "metadata": {},
   "outputs": [
    {
     "data": {
      "text/plain": [
       "['kefjthxbrk', 'djwrioqmit']"
      ]
     },
     "execution_count": 37,
     "metadata": {},
     "output_type": "execute_result"
    }
   ],
   "source": [
    "def torneio(populacao_selecionada: list[str], tipo: str = 'max') -> list[str]:\n",
    "    individuos_selecionados: list[str] = []\n",
    "\n",
    "    while len(individuos_selecionados) < 2:\n",
    "        individuo: str = random.choice(populacao_selecionada)\n",
    "        individuo2: str = random.choice(populacao_selecionada)\n",
    "        \n",
    "        \n",
    "        if (avaliar(individuo, tipo) > avaliar(individuo2, tipo) and tipo == 'max') or (avaliar(individuo, tipo) < avaliar(individuo2, tipo) and tipo == 'min'):\n",
    "            if not (individuo in individuos_selecionados): individuos_selecionados.append(individuo)\n",
    "            \n",
    "        else:\n",
    "            if not (individuo2 in individuos_selecionados): individuos_selecionados.append(individuo2)\n",
    "            \n",
    "    return individuos_selecionados\n",
    "\n",
    "torneio(populacao, dicionario_notas)"
   ]
  },
  {
   "cell_type": "code",
   "execution_count": 38,
   "metadata": {},
   "outputs": [
    {
     "data": {
      "text/plain": [
       "['mqeorjbkiu', 'jxusuuxtqh']"
      ]
     },
     "execution_count": 38,
     "metadata": {},
     "output_type": "execute_result"
    }
   ],
   "source": [
    "def roleta_viciada(populacao_selecionada: list[str], tipo: str = 'max') -> list[str]:\n",
    "    individuos_selecionados: list[str] = []   \n",
    "    dnotas: dict = notas(populacao_selecionada)\n",
    "    soma_notas: float = sum(dnotas.values())\n",
    "    \n",
    "    while len(individuos_selecionados) < 2:\n",
    "        roleta: dict = {}\n",
    "        for individuo, nota in dnotas.items():\n",
    "            if tipo == 'max':\n",
    "                roleta[individuo] = round(nota/soma_notas, 2)\n",
    "                \n",
    "            elif tipo == 'min':\n",
    "                roleta[individuo] = round(((1/nota)/soma_notas)*100, 2)\n",
    "            \n",
    "        roleta: dict = ordenar(roleta, criterio = 'desc')\n",
    "        \n",
    "        escolha: float = round(random.uniform(0, 1), 2)\n",
    "    \n",
    "        agregar: float = 0.0\n",
    "        \n",
    "        for individuo, nota in roleta.items():\n",
    "            agregar+=nota\n",
    "            if escolha <= agregar:\n",
    "                if not (individuo in individuos_selecionados): individuos_selecionados.append(individuo)\n",
    "                break\n",
    "    \n",
    "    return individuos_selecionados\n",
    "\n",
    "roleta_viciada(populacao)"
   ]
  },
  {
   "cell_type": "code",
   "execution_count": 39,
   "metadata": {},
   "outputs": [
    {
     "name": "stdout",
     "output_type": "stream",
     "text": [
      "['squrjrwodf', 'wzvyxmtsed']\n"
     ]
    }
   ],
   "source": [
    "# pais = torneio(populacao, dicionario_notas)\n",
    "# print(pais)\n",
    "pais = roleta_viciada(populacao)\n",
    "print(pais)"
   ]
  },
  {
   "cell_type": "markdown",
   "metadata": {},
   "source": [
    "### Faz o cruzamento entre dois indivíduos (usando o método *crossover*)"
   ]
  },
  {
   "cell_type": "code",
   "execution_count": 40,
   "metadata": {},
   "outputs": [],
   "source": [
    "def cruza(pai_mae: list[str], prob = 80) -> list[str]:\n",
    "    iv1, iv2 = pai_mae\n",
    "    \n",
    "    probabilidade_cruzamento: int = random.randint(0, 100)\n",
    "    \n",
    "    if probabilidade_cruzamento < prob:\n",
    "        pos: int = random.randint(0, len(iv1))\n",
    "    \n",
    "        filho1: str = iv1[:pos] + iv2[pos:]\n",
    "        filho2: str = iv2[:pos] + iv1[pos:]\n",
    "        \n",
    "        return [filho1, filho2]\n",
    "        \n",
    "    else:\n",
    "        return [iv1, iv2]"
   ]
  },
  {
   "cell_type": "code",
   "execution_count": 41,
   "metadata": {},
   "outputs": [
    {
     "name": "stdout",
     "output_type": "stream",
     "text": [
      "['sqvyxmtsed', 'wzurjrwodf']\n"
     ]
    }
   ],
   "source": [
    "filhos = cruza(pais, 100)\n",
    "print(filhos)"
   ]
  },
  {
   "cell_type": "markdown",
   "metadata": {},
   "source": [
    "### Mutação de Indivíduos"
   ]
  },
  {
   "cell_type": "code",
   "execution_count": 42,
   "metadata": {},
   "outputs": [],
   "source": [
    "def mutar(individuos: list[str], prob = 50) -> list[str]: # 50 é igual a 0.05 nesse caso\n",
    "    individuos_mutados: list[str] = []\n",
    "    \n",
    "    for individuo in individuos:\n",
    "        for pos, alelo in enumerate(individuo):\n",
    "            \n",
    "            probabilidade_mutacao: int = random.randint(0, 1000)\n",
    "            \n",
    "            if probabilidade_mutacao < prob:\n",
    "                novo_gene: str = gene(not_consider=[alelo]) \n",
    "                individuo: str = f'{individuo[:pos]}{novo_gene}{individuo[pos+1:]}'\n",
    "                \n",
    "        individuos_mutados.append(individuo)\n",
    "    \n",
    "    return individuos_mutados"
   ]
  },
  {
   "cell_type": "code",
   "execution_count": 43,
   "metadata": {},
   "outputs": [
    {
     "name": "stdout",
     "output_type": "stream",
     "text": [
      "Última geração: 59\n",
      "{\n",
      "  \"artifidial\": 1.0,\n",
      "  \"artifhcial\": 1.0,\n",
      "  \"artifhdial\": 0.5,\n",
      "  \"artieidial\": 0.5,\n",
      "  \"artifidhal\": 0.5,\n",
      "  \"brtifhcial\": 0.5,\n",
      "  \"artifjdial\": 0.5,\n",
      "  \"arsifhcial\": 0.5,\n",
      "  \"artifidiam\": 0.5,\n",
      "  \"artiehcial\": 0.5,\n",
      "  \"artifibhal\": 0.5,\n",
      "  \"artiejcial\": 0.5,\n",
      "  \"brtiehcial\": 0.3333333333333333,\n",
      "  \"arthfhdial\": 0.3333333333333333,\n",
      "  \"brtieidial\": 0.3333333333333333,\n",
      "  \"artifhcham\": 0.3333333333333333,\n",
      "  \"aqtiehcial\": 0.3333333333333333,\n",
      "  \"artifhdhal\": 0.3333333333333333,\n",
      "  \"brtiejcial\": 0.3333333333333333,\n",
      "  \"brtieibial\": 0.3333333333333333,\n",
      "  \"arsiejcial\": 0.3333333333333333,\n",
      "  \"brtifhbhal\": 0.25,\n",
      "  \"artiejdhal\": 0.25,\n",
      "  \"brtifibham\": 0.25,\n",
      "  \"arsifhcham\": 0.25,\n",
      "  \"artiejbhal\": 0.25,\n",
      "  \"brsieidial\": 0.25,\n",
      "  \"artiejbiam\": 0.25,\n",
      "  \"aptifjcial\": 0.2,\n",
      "  \"artiejdham\": 0.2,\n",
      "  \"arvifibial\": 0.2,\n",
      "  \"brsifhdjal\": 0.2,\n",
      "  \"brsifhcham\": 0.2,\n",
      "  \"arthejbhal\": 0.2,\n",
      "  \"artiihdial\": 0.09090909090909091,\n",
      "  \"articjdial\": 0.09090909090909091,\n",
      "  \"artlehdial\": 0.08333333333333333,\n",
      "  \"botieidial\": 0.08333333333333333,\n",
      "  \"artiefbjal\": 0.08333333333333333,\n",
      "  \"brtiefbhal\": 0.07692307692307693,\n",
      "  \"bstifhefal\": 0.0625,\n",
      "  \"arxiehcial\": 0.05555555555555555,\n",
      "  \"arsmfhdiam\": 0.05,\n",
      "  \"bsrifidiel\": 0.043478260869565216,\n",
      "  \"artnfidial\": 0.038461538461538464,\n",
      "  \"brtiffbhel\": 0.03571428571428571,\n",
      "  \"arsiljcial\": 0.02631578947368421,\n",
      "  \"artiecbial\": 0.02631578947368421,\n",
      "  \"grtiejdham\": 0.024390243902439025,\n",
      "  \"artifhcias\": 0.02,\n",
      "  \"artiebdial\": 0.0196078431372549,\n",
      "  \"artifhkiel\": 0.012345679012345678,\n",
      "  \"arnifhcbal\": 0.011627906976744186,\n",
      "  \"artifidiab\": 0.009900990099009901,\n",
      "  \"artieidsal\": 0.00980392156862745,\n",
      "  \"artieimham\": 0.009708737864077669,\n",
      "  \"arthftcial\": 0.00819672131147541,\n",
      "  \"arsifhctal\": 0.008130081300813009,\n",
      "  \"agtiehcial\": 0.008130081300813009,\n",
      "  \"arsieinial\": 0.008130081300813009,\n",
      "  \"aztinhdiam\": 0.007633587786259542,\n",
      "  \"brtufhbhal\": 0.006756756756756757,\n",
      "  \"arsifhchmm\": 0.006756756756756757,\n",
      "  \"ansifueial\": 0.006060606060606061,\n",
      "  \"brsifhcinl\": 0.005813953488372093,\n",
      "  \"artiejbxal\": 0.0043859649122807015,\n",
      "  \"brtiexbial\": 0.0043859649122807015,\n",
      "  \"acsifheial\": 0.004329004329004329,\n",
      "  \"ardifjcial\": 0.0038910505836575876,\n",
      "  \"basifhdjam\": 0.003389830508474576,\n",
      "  \"arbiehcial\": 0.003067484662576687,\n",
      "  \"batrhheial\": 0.002631578947368421,\n",
      "  \"artifixhal\": 0.0022624434389140274,\n",
      "  \"agtiehciul\": 0.0019120458891013384,\n",
      "  \"aqtiehciwv\": 0.0017035775127768314,\n",
      "  \"irshuhuial\": 0.0016233766233766235,\n",
      "  \"zitifidial\": 0.0014144271570014145,\n",
      "  \"artificial\": 0\n",
      "}\n"
     ]
    }
   ],
   "source": [
    "def main():\n",
    "    dicionario_notas: dict = {}\n",
    "    populacao_: list[str] = gerar_populacao(10, 100)\n",
    "    i: int = 0\n",
    "    \n",
    "    while 0 not in dicionario_notas.values():\n",
    "        dicionario_notas: dict = notas(populacao_)\n",
    "        dicionario_notas: dict = ordenar(dicionario_notas)\n",
    "        geracao: list[str] = []\n",
    "        while len(geracao) < 98:\n",
    "            # pais: list[str] = torneio(populacao_)\n",
    "            pais: list[str] = roleta_viciada(populacao_)\n",
    "            filhos: list[str] = cruza(pais)\n",
    "            filhos: list[str] = mutar(filhos)\n",
    "            geracao+=filhos\n",
    "        \n",
    "        geracao+=topn(dicionario_notas)\n",
    "        populacao_ = geracao\n",
    "    \n",
    "        i+=1\n",
    "    \n",
    "    print(f'Última geração: {i}')\n",
    "    return (ordenar(dicionario_notas, 'desc'))\n",
    "        \n",
    "melhor_geracao = main()\n",
    "\n",
    "import json\n",
    "print(json.dumps(melhor_geracao, indent=2))"
   ]
  }
 ],
 "metadata": {
  "kernelspec": {
   "display_name": "Python 3",
   "language": "python",
   "name": "python3"
  },
  "language_info": {
   "codemirror_mode": {
    "name": "ipython",
    "version": 3
   },
   "file_extension": ".py",
   "mimetype": "text/x-python",
   "name": "python",
   "nbconvert_exporter": "python",
   "pygments_lexer": "ipython3",
   "version": "3.12.4"
  }
 },
 "nbformat": 4,
 "nbformat_minor": 2
}
