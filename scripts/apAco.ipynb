{
 "cells": [
  {
   "cell_type": "markdown",
   "metadata": {},
   "source": [
    "# Importações e Bibliotecas"
   ]
  },
  {
   "cell_type": "code",
   "execution_count": 1,
   "metadata": {},
   "outputs": [],
   "source": [
    "import random"
   ]
  },
  {
   "cell_type": "code",
   "execution_count": 2,
   "metadata": {},
   "outputs": [],
   "source": [
    "# Definição do problema\n",
    "produtos = [\n",
    "    {'nome': 'Produto 1', 'preco': 10, 'valor': 20},\n",
    "    {'nome': 'Produto 2', 'preco': 15, 'valor': 25},\n",
    "    {'nome': 'Produto 3', 'preco': 7, 'valor': 10},\n",
    "    {'nome': 'Produto 4', 'preco': 8, 'valor': 18},\n",
    "    {'nome': 'Produto 5', 'preco': 25, 'valor': 50},\n",
    "]\n",
    "\n",
    "orçamento_maximo = 30"
   ]
  },
  {
   "cell_type": "code",
   "execution_count": 3,
   "metadata": {},
   "outputs": [],
   "source": [
    "# Parâmetros do algoritmo ACO\n",
    "num_formigas = 10\n",
    "num_iteracoes = 100\n",
    "evaporacao_feromona = 0.1\n",
    "peso_heuristica = 0.7\n",
    "peso_feromona = 0.3"
   ]
  },
  {
   "cell_type": "code",
   "execution_count": 4,
   "metadata": {},
   "outputs": [],
   "source": [
    "# Inicialização\n",
    "num_produtos = len(produtos)\n",
    "feromona = [[1.0] * num_produtos for _ in range(num_formigas)]  # Feromona inicial\n",
    "melhor_solucao = None\n",
    "melhor_valor = 0"
   ]
  },
  {
   "cell_type": "code",
   "execution_count": 5,
   "metadata": {},
   "outputs": [],
   "source": [
    "# Função de avaliação\n",
    "def calcular_valor(carrinho):\n",
    "    total_preco = sum(produtos[i]['preco'] for i in range(num_produtos) if carrinho[i] == 1)\n",
    "    total_valor = sum(produtos[i]['valor'] for i in range(num_produtos) if carrinho[i] == 1)\n",
    "    if total_preco > orçamento_maximo:\n",
    "        return 0  # Se ultrapassar o orçamento, a solução é inválida\n",
    "    return total_valor"
   ]
  },
  {
   "cell_type": "code",
   "execution_count": 6,
   "metadata": {},
   "outputs": [],
   "source": [
    "# Função para atualizar feromona\n",
    "def atualizar_feromona(carrinho, qualidade):\n",
    "    for i in range(num_produtos):\n",
    "        if carrinho[i] == 1:\n",
    "            feromona[0][i] = (1 - evaporacao_feromona) * feromona[0][i] + qualidade"
   ]
  },
  {
   "cell_type": "code",
   "execution_count": 7,
   "metadata": {},
   "outputs": [],
   "source": [
    "# Função de construção de solução\n",
    "def construir_solucao():\n",
    "    carrinho = []\n",
    "    for i in range(num_produtos):\n",
    "        # Probabilidade de escolher o produto\n",
    "        probabilidade = (peso_heuristica * (produtos[i]['valor'] / produtos[i]['preco'])) + \\\n",
    "                        (peso_feromona * feromona[0][i])\n",
    "        probabilidade = min(probabilidade, 1)  # Limitar para 1\n",
    "        escolha = 1 if random.random() < probabilidade else 0\n",
    "        carrinho.append(escolha)\n",
    "    return carrinho"
   ]
  },
  {
   "cell_type": "code",
   "execution_count": 8,
   "metadata": {},
   "outputs": [
    {
     "name": "stdout",
     "output_type": "stream",
     "text": [
      "Iteração 1: Melhor valor = 0\n",
      "Iteração 2: Melhor valor = 0\n",
      "Iteração 3: Melhor valor = 0\n",
      "Iteração 4: Melhor valor = 0\n",
      "Iteração 5: Melhor valor = 0\n",
      "Iteração 6: Melhor valor = 0\n",
      "Iteração 7: Melhor valor = 0\n",
      "Iteração 8: Melhor valor = 0\n",
      "Iteração 9: Melhor valor = 0\n",
      "Iteração 10: Melhor valor = 0\n",
      "Iteração 11: Melhor valor = 0\n",
      "Iteração 12: Melhor valor = 0\n",
      "Iteração 13: Melhor valor = 0\n",
      "Iteração 14: Melhor valor = 0\n",
      "Iteração 15: Melhor valor = 0\n",
      "Iteração 16: Melhor valor = 0\n",
      "Iteração 17: Melhor valor = 0\n",
      "Iteração 18: Melhor valor = 0\n",
      "Iteração 19: Melhor valor = 0\n",
      "Iteração 20: Melhor valor = 0\n",
      "Iteração 21: Melhor valor = 0\n",
      "Iteração 22: Melhor valor = 0\n",
      "Iteração 23: Melhor valor = 0\n",
      "Iteração 24: Melhor valor = 0\n",
      "Iteração 25: Melhor valor = 0\n",
      "Iteração 26: Melhor valor = 0\n",
      "Iteração 27: Melhor valor = 0\n",
      "Iteração 28: Melhor valor = 0\n",
      "Iteração 29: Melhor valor = 0\n",
      "Iteração 30: Melhor valor = 0\n",
      "Iteração 31: Melhor valor = 0\n",
      "Iteração 32: Melhor valor = 0\n",
      "Iteração 33: Melhor valor = 0\n",
      "Iteração 34: Melhor valor = 0\n",
      "Iteração 35: Melhor valor = 0\n",
      "Iteração 36: Melhor valor = 0\n",
      "Iteração 37: Melhor valor = 0\n",
      "Iteração 38: Melhor valor = 0\n",
      "Iteração 39: Melhor valor = 0\n",
      "Iteração 40: Melhor valor = 0\n",
      "Iteração 41: Melhor valor = 0\n",
      "Iteração 42: Melhor valor = 0\n",
      "Iteração 43: Melhor valor = 0\n",
      "Iteração 44: Melhor valor = 0\n",
      "Iteração 45: Melhor valor = 0\n",
      "Iteração 46: Melhor valor = 0\n",
      "Iteração 47: Melhor valor = 0\n",
      "Iteração 48: Melhor valor = 0\n",
      "Iteração 49: Melhor valor = 0\n",
      "Iteração 50: Melhor valor = 0\n",
      "Iteração 51: Melhor valor = 0\n",
      "Iteração 52: Melhor valor = 0\n",
      "Iteração 53: Melhor valor = 0\n",
      "Iteração 54: Melhor valor = 0\n",
      "Iteração 55: Melhor valor = 0\n",
      "Iteração 56: Melhor valor = 0\n",
      "Iteração 57: Melhor valor = 0\n",
      "Iteração 58: Melhor valor = 0\n",
      "Iteração 59: Melhor valor = 0\n",
      "Iteração 60: Melhor valor = 0\n",
      "Iteração 61: Melhor valor = 0\n",
      "Iteração 62: Melhor valor = 0\n",
      "Iteração 63: Melhor valor = 0\n",
      "Iteração 64: Melhor valor = 0\n",
      "Iteração 65: Melhor valor = 0\n",
      "Iteração 66: Melhor valor = 0\n",
      "Iteração 67: Melhor valor = 0\n",
      "Iteração 68: Melhor valor = 0\n",
      "Iteração 69: Melhor valor = 0\n",
      "Iteração 70: Melhor valor = 0\n",
      "Iteração 71: Melhor valor = 0\n",
      "Iteração 72: Melhor valor = 0\n",
      "Iteração 73: Melhor valor = 0\n",
      "Iteração 74: Melhor valor = 0\n",
      "Iteração 75: Melhor valor = 0\n",
      "Iteração 76: Melhor valor = 0\n",
      "Iteração 77: Melhor valor = 0\n",
      "Iteração 78: Melhor valor = 0\n",
      "Iteração 79: Melhor valor = 0\n",
      "Iteração 80: Melhor valor = 0\n",
      "Iteração 81: Melhor valor = 0\n",
      "Iteração 82: Melhor valor = 0\n",
      "Iteração 83: Melhor valor = 0\n",
      "Iteração 84: Melhor valor = 0\n",
      "Iteração 85: Melhor valor = 0\n",
      "Iteração 86: Melhor valor = 0\n",
      "Iteração 87: Melhor valor = 0\n",
      "Iteração 88: Melhor valor = 0\n",
      "Iteração 89: Melhor valor = 0\n",
      "Iteração 90: Melhor valor = 0\n",
      "Iteração 91: Melhor valor = 0\n",
      "Iteração 92: Melhor valor = 0\n",
      "Iteração 93: Melhor valor = 0\n",
      "Iteração 94: Melhor valor = 0\n",
      "Iteração 95: Melhor valor = 0\n",
      "Iteração 96: Melhor valor = 0\n",
      "Iteração 97: Melhor valor = 0\n",
      "Iteração 98: Melhor valor = 0\n",
      "Iteração 99: Melhor valor = 0\n",
      "Iteração 100: Melhor valor = 0\n",
      "Melhor carrinho de compras:\n"
     ]
    },
    {
     "ename": "TypeError",
     "evalue": "'NoneType' object is not subscriptable",
     "output_type": "error",
     "traceback": [
      "\u001b[1;31m---------------------------------------------------------------------------\u001b[0m",
      "\u001b[1;31mTypeError\u001b[0m                                 Traceback (most recent call last)",
      "Cell \u001b[1;32mIn[8], line 24\u001b[0m\n\u001b[0;32m     22\u001b[0m \u001b[38;5;28mprint\u001b[39m(\u001b[38;5;124m\"\u001b[39m\u001b[38;5;124mMelhor carrinho de compras:\u001b[39m\u001b[38;5;124m\"\u001b[39m)\n\u001b[0;32m     23\u001b[0m \u001b[38;5;28;01mfor\u001b[39;00m i \u001b[38;5;129;01min\u001b[39;00m \u001b[38;5;28mrange\u001b[39m(num_produtos):\n\u001b[1;32m---> 24\u001b[0m     \u001b[38;5;28;01mif\u001b[39;00m \u001b[43mmelhor_solucao\u001b[49m\u001b[43m[\u001b[49m\u001b[43mi\u001b[49m\u001b[43m]\u001b[49m \u001b[38;5;241m==\u001b[39m \u001b[38;5;241m1\u001b[39m:\n\u001b[0;32m     25\u001b[0m         \u001b[38;5;28mprint\u001b[39m(\u001b[38;5;124mf\u001b[39m\u001b[38;5;124m\"\u001b[39m\u001b[38;5;124mProduto: \u001b[39m\u001b[38;5;132;01m{\u001b[39;00mprodutos[i][\u001b[38;5;124m'\u001b[39m\u001b[38;5;124mnome\u001b[39m\u001b[38;5;124m'\u001b[39m]\u001b[38;5;132;01m}\u001b[39;00m\u001b[38;5;124m, Preço: \u001b[39m\u001b[38;5;132;01m{\u001b[39;00mprodutos[i][\u001b[38;5;124m'\u001b[39m\u001b[38;5;124mpreco\u001b[39m\u001b[38;5;124m'\u001b[39m]\u001b[38;5;132;01m}\u001b[39;00m\u001b[38;5;124m, Valor: \u001b[39m\u001b[38;5;132;01m{\u001b[39;00mprodutos[i][\u001b[38;5;124m'\u001b[39m\u001b[38;5;124mvalor\u001b[39m\u001b[38;5;124m'\u001b[39m]\u001b[38;5;132;01m}\u001b[39;00m\u001b[38;5;124m\"\u001b[39m)\n\u001b[0;32m     26\u001b[0m \u001b[38;5;28mprint\u001b[39m(\u001b[38;5;124mf\u001b[39m\u001b[38;5;124m\"\u001b[39m\u001b[38;5;124mValor total: \u001b[39m\u001b[38;5;132;01m{\u001b[39;00mmelhor_valor\u001b[38;5;132;01m}\u001b[39;00m\u001b[38;5;124m\"\u001b[39m)\n",
      "\u001b[1;31mTypeError\u001b[0m: 'NoneType' object is not subscriptable"
     ]
    }
   ],
   "source": [
    "# Algoritmo ACO\n",
    "for iteracao in range(num_iteracoes):\n",
    "    for formiga in range(num_formigas):\n",
    "        # Cada formiga constrói uma solução\n",
    "        carrinho = construir_solucao()\n",
    "        valor_carrinho = calcular_valor(carrinho)\n",
    "        \n",
    "        # Atualiza a melhor solução\n",
    "        if valor_carrinho > melhor_valor:\n",
    "            melhor_valor = valor_carrinho\n",
    "            melhor_solucao = carrinho\n",
    "    \n",
    "    # Atualizar feromona com base nas melhores soluções\n",
    "    for formiga in range(num_formigas):\n",
    "        carrinho = construir_solucao()\n",
    "        qualidade = calcular_valor(carrinho)\n",
    "        atualizar_feromona(carrinho, qualidade)\n",
    "\n",
    "    print(f\"Iteração {iteracao + 1}: Melhor valor = {melhor_valor}\")\n",
    "\n",
    "# Resultado final\n",
    "print(\"Melhor carrinho de compras:\")\n",
    "for i in range(num_produtos):\n",
    "    if melhor_solucao[i] == 1:\n",
    "        print(f\"Produto: {produtos[i]['nome']}, Preço: {produtos[i]['preco']}, Valor: {produtos[i]['valor']}\")\n",
    "print(f\"Valor total: {melhor_valor}\")\n"
   ]
  }
 ],
 "metadata": {
  "kernelspec": {
   "display_name": ".venv",
   "language": "python",
   "name": "python3"
  },
  "language_info": {
   "codemirror_mode": {
    "name": "ipython",
    "version": 3
   },
   "file_extension": ".py",
   "mimetype": "text/x-python",
   "name": "python",
   "nbconvert_exporter": "python",
   "pygments_lexer": "ipython3",
   "version": "3.12.7"
  }
 },
 "nbformat": 4,
 "nbformat_minor": 2
}
